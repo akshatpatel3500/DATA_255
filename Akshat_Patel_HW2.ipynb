{
  "nbformat": 4,
  "nbformat_minor": 0,
  "metadata": {
    "colab": {
      "provenance": []
    },
    "kernelspec": {
      "name": "python3",
      "display_name": "Python 3"
    },
    "language_info": {
      "name": "python"
    }
  },
  "cells": [
    {
      "cell_type": "code",
      "execution_count": 1,
      "metadata": {
        "id": "_Ipr6oTXs0QQ"
      },
      "outputs": [],
      "source": [
        "%matplotlib inline\n",
        "import torch\n",
        "import torch.nn as nn\n",
        "import torch.optim as optim\n",
        "import torchvision\n",
        "from torchvision import datasets, transforms\n",
        "from torch.utils.data import DataLoader\n",
        "import matplotlib.pyplot as plt"
      ]
    },
    {
      "cell_type": "code",
      "source": [
        "# Define a series of transformations\n",
        "transform = transforms.Compose([\n",
        "    transforms.ToTensor(),\n",
        "    transforms.Normalize((0.5,), (0.5,))\n",
        "])\n",
        "\n",
        "# Obtain and preprocess the QMNIST dataset\n",
        "train_dataset = datasets.QMNIST(root='./data', train=True, download=True, transform=transform)\n",
        "test_dataset = datasets.QMNIST(root='./data', train=False, download=True, transform=transform)\n",
        "\n",
        "# Set up data loaders\n",
        "train_loader = DataLoader(train_dataset, batch_size=64, shuffle=True)\n",
        "test_loader = DataLoader(test_dataset, batch_size=64, shuffle=False)\n"
      ],
      "metadata": {
        "colab": {
          "base_uri": "https://localhost:8080/"
        },
        "id": "AQIQDNlqtUR0",
        "outputId": "3d2a72d0-4e73-4ec6-8406-4480c938d2a7"
      },
      "execution_count": 2,
      "outputs": [
        {
          "output_type": "stream",
          "name": "stdout",
          "text": [
            "Downloading https://raw.githubusercontent.com/facebookresearch/qmnist/master/qmnist-train-images-idx3-ubyte.gz to ./data/QMNIST/raw/qmnist-train-images-idx3-ubyte.gz\n"
          ]
        },
        {
          "output_type": "stream",
          "name": "stderr",
          "text": [
            "100%|██████████| 9704059/9704059 [00:00<00:00, 35199463.71it/s]\n"
          ]
        },
        {
          "output_type": "stream",
          "name": "stdout",
          "text": [
            "Extracting ./data/QMNIST/raw/qmnist-train-images-idx3-ubyte.gz to ./data/QMNIST/raw\n",
            "Downloading https://raw.githubusercontent.com/facebookresearch/qmnist/master/qmnist-train-labels-idx2-int.gz to ./data/QMNIST/raw/qmnist-train-labels-idx2-int.gz\n"
          ]
        },
        {
          "output_type": "stream",
          "name": "stderr",
          "text": [
            "100%|██████████| 463024/463024 [00:00<00:00, 3588717.93it/s]\n"
          ]
        },
        {
          "output_type": "stream",
          "name": "stdout",
          "text": [
            "Extracting ./data/QMNIST/raw/qmnist-train-labels-idx2-int.gz to ./data/QMNIST/raw\n",
            "Downloading https://raw.githubusercontent.com/facebookresearch/qmnist/master/qmnist-test-images-idx3-ubyte.gz to ./data/QMNIST/raw/qmnist-test-images-idx3-ubyte.gz\n"
          ]
        },
        {
          "output_type": "stream",
          "name": "stderr",
          "text": [
            "100%|██████████| 9742279/9742279 [00:00<00:00, 29671373.07it/s]\n"
          ]
        },
        {
          "output_type": "stream",
          "name": "stdout",
          "text": [
            "Extracting ./data/QMNIST/raw/qmnist-test-images-idx3-ubyte.gz to ./data/QMNIST/raw\n",
            "Downloading https://raw.githubusercontent.com/facebookresearch/qmnist/master/qmnist-test-labels-idx2-int.gz to ./data/QMNIST/raw/qmnist-test-labels-idx2-int.gz\n"
          ]
        },
        {
          "output_type": "stream",
          "name": "stderr",
          "text": [
            "100%|██████████| 526800/526800 [00:00<00:00, 3852184.93it/s]\n"
          ]
        },
        {
          "output_type": "stream",
          "name": "stdout",
          "text": [
            "Extracting ./data/QMNIST/raw/qmnist-test-labels-idx2-int.gz to ./data/QMNIST/raw\n"
          ]
        }
      ]
    },
    {
      "cell_type": "code",
      "source": [
        "import torch\n",
        "import matplotlib.pyplot as plt\n",
        "from torchvision import datasets, transforms\n",
        "\n",
        "# Define a mapping of labels to digits\n",
        "labels_map = {\n",
        "    0: \"0\",\n",
        "    1: \"1\",\n",
        "    2: \"2\",\n",
        "    3: \"3\",\n",
        "    4: \"4\",\n",
        "    5: \"5\",\n",
        "    6: \"6\",\n",
        "    7: \"7\",\n",
        "    8: \"8\",\n",
        "    9: \"9\"\n",
        "}\n",
        "\n",
        "# Define the transformations for preprocessing the images\n",
        "transform = transforms.Compose([\n",
        "    transforms.ToTensor(),\n",
        "])\n",
        "\n",
        "# Load the QMNIST dataset for training\n",
        "train_dataset = datasets.QMNIST(root='./data', train=True, download=True, transform=transform)\n",
        "\n",
        "# Create a figure to plot the images\n",
        "figure = plt.figure(figsize=(8, 8))\n",
        "columns, rows = 3, 3\n",
        "\n",
        "# Iterate through the dataset and visualize sample images\n",
        "for i in range(1, columns * rows + 1):\n",
        "    sample_index = torch.randint(len(train_dataset), size=(1,)).item()\n",
        "    image, label = train_dataset[sample_index]\n",
        "    figure.add_subplot(rows, columns, i)\n",
        "    plt.title(labels_map[label])\n",
        "    plt.axis(\"off\")\n",
        "    plt.imshow(image.squeeze(), cmap=\"gray\")\n",
        "\n",
        "plt.show()\n"
      ],
      "metadata": {
        "colab": {
          "base_uri": "https://localhost:8080/",
          "height": 675
        },
        "id": "GW0hdB_ztkHV",
        "outputId": "22f6bff2-16db-4286-aa68-2f777e8bac9b"
      },
      "execution_count": 5,
      "outputs": [
        {
          "output_type": "display_data",
          "data": {
            "text/plain": [
              "<Figure size 800x800 with 9 Axes>"
            ],
            "image/png": "[encoded data removed]"
          },
          "metadata": {}
        }
      ]
    },
    {
      "cell_type": "code",
      "source": [
        "# Create a figure for plotting\n",
        "plot_figure = plt.figure(figsize=(8, 8))\n",
        "columns, rows = 3, 3\n",
        "\n",
        "# Loop over the test dataset to display samples\n",
        "for i in range(1, columns * rows + 1):\n",
        "    sample_index = torch.randint(len(test_dataset), size=(1,)).item()\n",
        "    image, label = test_dataset[sample_index]\n",
        "    plot_figure.add_subplot(rows, columns, i)\n",
        "    plt.title(labels_map[label])\n",
        "    plt.axis(\"off\")\n",
        "    plt.imshow(image.squeeze(), cmap=\"gray\")\n",
        "\n",
        "plt.show()\n"
      ],
      "metadata": {
        "colab": {
          "base_uri": "https://localhost:8080/",
          "height": 675
        },
        "id": "irPTFACGt0Rh",
        "outputId": "64bcf20d-4b87-42fa-95af-6dbec5bcc421"
      },
      "execution_count": 6,
      "outputs": [
        {
          "output_type": "display_data",
          "data": {
            "text/plain": [
              "<Figure size 800x800 with 9 Axes>"
            ],
            "image/png": "[encoded data removed]"
          },
          "metadata": {}
        }
      ]
    },
    {
      "cell_type": "code",
      "source": [
        "# Define the architecture of the neural network\n",
        "class MLP(nn.Module):\n",
        "    def __init__(self):\n",
        "        super(MLP, self).__init__()\n",
        "        self.fc1 = nn.Linear(28 * 28, 128)\n",
        "        self.fc2 = nn.Linear(128, 64)\n",
        "        self.fc3 = nn.Linear(64, 10)\n",
        "\n",
        "    def forward(self, x):\n",
        "        x = x.view(-1, 28 * 28)\n",
        "        x = torch.relu(self.fc1(x))\n",
        "        x = torch.relu(self.fc2(x))\n",
        "        x = self.fc3(x)\n",
        "        return x\n",
        "\n",
        "# Initialize the neural network model\n",
        "neural_network = MLP()\n"
      ],
      "metadata": {
        "id": "9u5igtlyuRqM"
      },
      "execution_count": 10,
      "outputs": []
    },
    {
      "cell_type": "code",
      "source": [
        "import torch.nn as nn\n",
        "import torch.optim as optim\n",
        "\n",
        "# Define your neural network architecture\n",
        "class MLP(nn.Module):\n",
        "    def __init__(self):\n",
        "        super(MLP, self).__init__()\n",
        "        self.fc1 = nn.Linear(28 * 28, 128)\n",
        "        self.fc2 = nn.Linear(128, 64)\n",
        "        self.fc3 = nn.Linear(64, 10)\n",
        "\n",
        "    def forward(self, x):\n",
        "        x = x.view(-1, 28 * 28)\n",
        "        x = torch.relu(self.fc1(x))\n",
        "        x = torch.relu(self.fc2(x))\n",
        "        x = self.fc3(x)\n",
        "        return x\n",
        "\n",
        "# Initialize your neural network model\n",
        "model = MLP()\n",
        "\n",
        "# Define the loss function and optimizer\n",
        "loss_function = nn.CrossEntropyLoss()\n",
        "optimizer = optim.Adam(model.parameters(), lr=0.001)\n",
        "\n",
        "# Train the neural network\n",
        "num_epochs = 10\n",
        "for epoch in range(num_epochs):\n",
        "    model.train()\n",
        "    running_loss = 0.0\n",
        "    for i, data in enumerate(train_loader, 0):\n",
        "        inputs, labels = data\n",
        "        optimizer.zero_grad()\n",
        "        outputs = model(inputs)\n",
        "        loss = loss_function(outputs, labels)\n",
        "        loss.backward()\n",
        "        optimizer.step()\n",
        "        running_loss += loss.item()\n",
        "        if i % 100 == 99:\n",
        "            print(f'Epoch {epoch + 1}, Batch {i + 1}, Loss: {running_loss / 100}')\n",
        "            running_loss = 0.0\n",
        "\n",
        "print('Training Finished')\n"
      ],
      "metadata": {
        "colab": {
          "base_uri": "https://localhost:8080/"
        },
        "id": "KPtI-I5IuXTp",
        "outputId": "f995e6d8-e041-4559-c0b2-9bc5ebccf076"
      },
      "execution_count": 12,
      "outputs": [
        {
          "output_type": "stream",
          "name": "stdout",
          "text": [
            "Epoch 1, Batch 100, Loss: 0.9954199111461639\n",
            "Epoch 1, Batch 200, Loss: 0.46690152496099474\n",
            "Epoch 1, Batch 300, Loss: 0.3955640897154808\n",
            "Epoch 1, Batch 400, Loss: 0.3240852090716362\n",
            "Epoch 1, Batch 500, Loss: 0.3118569702655077\n",
            "Epoch 1, Batch 600, Loss: 0.29150551185011864\n",
            "Epoch 1, Batch 700, Loss: 0.26566119089722634\n",
            "Epoch 1, Batch 800, Loss: 0.247981249243021\n",
            "Epoch 1, Batch 900, Loss: 0.2191791483014822\n",
            "Epoch 2, Batch 100, Loss: 0.20525375973433257\n",
            "Epoch 2, Batch 200, Loss: 0.21117535047233105\n",
            "Epoch 2, Batch 300, Loss: 0.19635077696293593\n",
            "Epoch 2, Batch 400, Loss: 0.17533508818596602\n",
            "Epoch 2, Batch 500, Loss: 0.17787901792675256\n",
            "Epoch 2, Batch 600, Loss: 0.1692874513939023\n",
            "Epoch 2, Batch 700, Loss: 0.1602169058471918\n",
            "Epoch 2, Batch 800, Loss: 0.1632572408951819\n",
            "Epoch 2, Batch 900, Loss: 0.1633285466581583\n",
            "Epoch 3, Batch 100, Loss: 0.1520793471299112\n",
            "Epoch 3, Batch 200, Loss: 0.13487318513914942\n",
            "Epoch 3, Batch 300, Loss: 0.14234700987115503\n",
            "Epoch 3, Batch 400, Loss: 0.1410978115350008\n",
            "Epoch 3, Batch 500, Loss: 0.1358002468943596\n",
            "Epoch 3, Batch 600, Loss: 0.12914741357788442\n",
            "Epoch 3, Batch 700, Loss: 0.11951927935704589\n",
            "Epoch 3, Batch 800, Loss: 0.13646985817700624\n",
            "Epoch 3, Batch 900, Loss: 0.11548842761665583\n",
            "Epoch 4, Batch 100, Loss: 0.10281039588153362\n",
            "Epoch 4, Batch 200, Loss: 0.09517962811514735\n",
            "Epoch 4, Batch 300, Loss: 0.10406465420499444\n",
            "Epoch 4, Batch 400, Loss: 0.11116095261648297\n",
            "Epoch 4, Batch 500, Loss: 0.10160695780999958\n",
            "Epoch 4, Batch 600, Loss: 0.11663227284327149\n",
            "Epoch 4, Batch 700, Loss: 0.10300338855944574\n",
            "Epoch 4, Batch 800, Loss: 0.11592751420103013\n",
            "Epoch 4, Batch 900, Loss: 0.11434764226898551\n",
            "Epoch 5, Batch 100, Loss: 0.08961458033882082\n",
            "Epoch 5, Batch 200, Loss: 0.0841465114755556\n",
            "Epoch 5, Batch 300, Loss: 0.08839141257107258\n",
            "Epoch 5, Batch 400, Loss: 0.08274201823398471\n",
            "Epoch 5, Batch 500, Loss: 0.1025930161587894\n",
            "Epoch 5, Batch 600, Loss: 0.08277657624334096\n",
            "Epoch 5, Batch 700, Loss: 0.09270825661718846\n",
            "Epoch 5, Batch 800, Loss: 0.09713385717011988\n",
            "Epoch 5, Batch 900, Loss: 0.09941659395582975\n",
            "Epoch 6, Batch 100, Loss: 0.07226854994893074\n",
            "Epoch 6, Batch 200, Loss: 0.07736334510147572\n",
            "Epoch 6, Batch 300, Loss: 0.07816485670860857\n",
            "Epoch 6, Batch 400, Loss: 0.08544026779942214\n",
            "Epoch 6, Batch 500, Loss: 0.07854282293003052\n",
            "Epoch 6, Batch 600, Loss: 0.08163695299066603\n",
            "Epoch 6, Batch 700, Loss: 0.08939330381341279\n",
            "Epoch 6, Batch 800, Loss: 0.07891419828403741\n",
            "Epoch 6, Batch 900, Loss: 0.08043307871557773\n",
            "Epoch 7, Batch 100, Loss: 0.06419948338530958\n",
            "Epoch 7, Batch 200, Loss: 0.06632711567450315\n",
            "Epoch 7, Batch 300, Loss: 0.06120630642864853\n",
            "Epoch 7, Batch 400, Loss: 0.05932479914277792\n",
            "Epoch 7, Batch 500, Loss: 0.06886531680822372\n",
            "Epoch 7, Batch 600, Loss: 0.08172344260616228\n",
            "Epoch 7, Batch 700, Loss: 0.0828033689269796\n",
            "Epoch 7, Batch 800, Loss: 0.06640140454750508\n",
            "Epoch 7, Batch 900, Loss: 0.08576457973569632\n",
            "Epoch 8, Batch 100, Loss: 0.05550917129497975\n",
            "Epoch 8, Batch 200, Loss: 0.052635156409814955\n",
            "Epoch 8, Batch 300, Loss: 0.05975543757434934\n",
            "Epoch 8, Batch 400, Loss: 0.062349347127601505\n",
            "Epoch 8, Batch 500, Loss: 0.07184697683900594\n",
            "Epoch 8, Batch 600, Loss: 0.07652409480651841\n",
            "Epoch 8, Batch 700, Loss: 0.06536867995280772\n",
            "Epoch 8, Batch 800, Loss: 0.06575225452426821\n",
            "Epoch 8, Batch 900, Loss: 0.0747364415973425\n",
            "Epoch 9, Batch 100, Loss: 0.051451422087848184\n",
            "Epoch 9, Batch 200, Loss: 0.06317048537079245\n",
            "Epoch 9, Batch 300, Loss: 0.0508653161150869\n",
            "Epoch 9, Batch 400, Loss: 0.0657229504082352\n",
            "Epoch 9, Batch 500, Loss: 0.0521457956568338\n",
            "Epoch 9, Batch 600, Loss: 0.05101973460521549\n",
            "Epoch 9, Batch 700, Loss: 0.07820402762154118\n",
            "Epoch 9, Batch 800, Loss: 0.06111700967885554\n",
            "Epoch 9, Batch 900, Loss: 0.0617571658687666\n",
            "Epoch 10, Batch 100, Loss: 0.04343584300950169\n",
            "Epoch 10, Batch 200, Loss: 0.05013045589264948\n",
            "Epoch 10, Batch 300, Loss: 0.04938091878313571\n",
            "Epoch 10, Batch 400, Loss: 0.05292755328351632\n",
            "Epoch 10, Batch 500, Loss: 0.0574540735501796\n",
            "Epoch 10, Batch 600, Loss: 0.05375046480912715\n",
            "Epoch 10, Batch 700, Loss: 0.053346109945559876\n",
            "Epoch 10, Batch 800, Loss: 0.06721250434406102\n",
            "Epoch 10, Batch 900, Loss: 0.05850490831071511\n",
            "Training Finished\n"
          ]
        }
      ]
    },
    {
      "cell_type": "code",
      "source": [
        "# Set the model to evaluation mode\n",
        "model.eval()\n",
        "\n",
        "# Initialize variables for tracking correct predictions and total samples\n",
        "correct = 0\n",
        "total = 0\n",
        "\n",
        "# Turn off gradient computation\n",
        "with torch.no_grad():\n",
        "    # Iterate through the training dataset\n",
        "    for data in train_loader:\n",
        "        images, labels = data\n",
        "        # Forward pass\n",
        "        outputs = model(images)\n",
        "        # Get the predicted class\n",
        "        _, predicted = torch.max(outputs.data, 1)\n",
        "        # Update the total number of samples\n",
        "        total += labels.size(0)\n",
        "        # Update the number of correctly classified samples\n",
        "        correct += (predicted == labels).sum().item()\n",
        "\n",
        "# Calculate the accuracy\n",
        "accuracy = correct / total * 100\n",
        "print(f'Accuracy on the training set: {accuracy:.3f}%')\n"
      ],
      "metadata": {
        "colab": {
          "base_uri": "https://localhost:8080/"
        },
        "id": "uak49mnougkv",
        "outputId": "a9370f7d-3f6e-404d-9a48-46df1d18361e"
      },
      "execution_count": 13,
      "outputs": [
        {
          "output_type": "stream",
          "name": "stdout",
          "text": [
            "Accuracy on the training set: 98.550%\n"
          ]
        }
      ]
    },
    {
      "cell_type": "code",
      "source": [
        "# Evaluate the model on the test set\n",
        "model.eval()\n",
        "correct = 0\n",
        "total = 0\n",
        "\n",
        "# Turn off gradient computation\n",
        "with torch.no_grad():\n",
        "    # Iterate through the test loader\n",
        "    for data in test_loader:\n",
        "        images, labels = data\n",
        "        # Forward pass\n",
        "        outputs = model(images)\n",
        "        # Get the predicted class\n",
        "        _, predicted = torch.max(outputs.data, 1)\n",
        "        # Update the total number of samples\n",
        "        total += labels.size(0)\n",
        "        # Update the number of correctly classified samples\n",
        "        correct += (predicted == labels).sum().item()\n",
        "\n",
        "# Calculate the accuracy\n",
        "accuracy = correct / total * 100\n",
        "print(f'Accuracy on the test set: {accuracy:.3f}%')\n"
      ],
      "metadata": {
        "colab": {
          "base_uri": "https://localhost:8080/"
        },
        "id": "LuHqXQ7tvgsM",
        "outputId": "de40c82b-2243-46eb-ff3a-c72e321e8a49"
      },
      "execution_count": 14,
      "outputs": [
        {
          "output_type": "stream",
          "name": "stdout",
          "text": [
            "Accuracy on the test set: 96.983%\n"
          ]
        }
      ]
    },
    {
      "cell_type": "code",
      "source": [
        "# Set the model to evaluation mode\n",
        "model.eval()\n",
        "\n",
        "# Initialize an empty list to store predictions\n",
        "predictions = []\n",
        "\n",
        "# Initialize variables for tracking correct predictions and total samples\n",
        "correct = 0\n",
        "total = 0\n",
        "\n",
        "# Turn off gradient computation\n",
        "with torch.no_grad():\n",
        "    # Iterate through the test loader\n",
        "    for data in test_loader:\n",
        "        images, labels = data\n",
        "        # Forward pass\n",
        "        outputs = model(images)\n",
        "        # Get the predicted class\n",
        "        _, predicted = torch.max(outputs.data, 1)\n",
        "        # Extend the predictions list with the predicted labels\n",
        "        predictions.extend(predicted.numpy())\n",
        "        # Update the total number of samples\n",
        "        total += labels.size(0)\n",
        "        # Update the number of correctly classified samples\n",
        "        correct += (predicted == labels).sum().item()\n"
      ],
      "metadata": {
        "id": "2cc8EjDfvsi6"
      },
      "execution_count": 15,
      "outputs": []
    },
    {
      "cell_type": "code",
      "source": [
        "# Get one test image and its label\n",
        "image, label = images[0], labels[0]\n",
        "\n",
        "# Reshape the image tensor to a 28x28 shape\n",
        "image = image.view(28, 28)\n",
        "\n",
        "# Convert the image tensor to a numpy array for visualization\n",
        "image_numpy = image.numpy()\n",
        "\n",
        "# Show the image\n",
        "plt.imshow(image_numpy, cmap='gray')\n",
        "plt.title(f'Predicted Label: {predictions[0]}, Actual Label: {label.item()}')\n",
        "plt.axis('off')\n",
        "plt.show()\n"
      ],
      "metadata": {
        "colab": {
          "base_uri": "https://localhost:8080/",
          "height": 428
        },
        "id": "DisKwn3xv4uK",
        "outputId": "68c3d2ea-a0eb-40f6-c03f-a8dd4c31f525"
      },
      "execution_count": 16,
      "outputs": [
        {
          "output_type": "display_data",
          "data": {
            "text/plain": [
              "<Figure size 640x480 with 1 Axes>"
            ],
            "image/png": "[encoded data removed]"
          },
          "metadata": {}
        }
      ]
    },
    {
      "cell_type": "markdown",
      "source": [
        "# Step 3\n",
        "**Report on the results in terms of prediction accuracy on the train and test datasets:**\n",
        "- Accuracy on training set: 98.55%\n",
        "- Accuracy on test set: 96.98%"
      ],
      "metadata": {
        "id": "ysmpj4_OweD9"
      }
    },
    {
      "cell_type": "markdown",
      "source": [
        "# Step 4\n",
        "**Chosen Proposed modification:**\n",
        "-\n",
        "Raise the current count of nodes in the layer to 256\n",
        "\n",
        "**Hypothesize how it would change the performance results:**\n",
        "-\n",
        "The anticipated outcome is an enhancement in performance. By augmenting the number of units, the model's ability to represent data should improve, thereby enabling it to capture intricate relationships among the input features."
      ],
      "metadata": {
        "id": "HP3bjghfwnoR"
      }
    },
    {
      "cell_type": "markdown",
      "source": [
        "#Step 5\n",
        "Modify the model based on the chosen method and train\n",
        "\n"
      ],
      "metadata": {
        "id": "Xg9H0lenxZ_Q"
      }
    },
    {
      "cell_type": "code",
      "source": [
        "# Define the neural network architecture\n",
        "class MLP2(nn.Module):\n",
        "    def __init__(self):\n",
        "        super(MLP2, self).__init__()\n",
        "        self.fc1 = nn.Linear(28 * 28, 256)\n",
        "        self.fc2 = nn.Linear(256, 256)\n",
        "        self.fc3 = nn.Linear(256, 10)\n",
        "\n",
        "    def forward(self, x):\n",
        "        x = x.view(-1, 28 * 28)\n",
        "        x = torch.relu(self.fc1(x))\n",
        "        x = torch.relu(self.fc2(x))\n",
        "        x = self.fc3(x)\n",
        "        return x\n",
        "\n",
        "# Initialize the neural network model\n",
        "model = MLP2()\n",
        "\n",
        "# Define the loss function and optimizer\n",
        "loss_function = nn.CrossEntropyLoss()\n",
        "optimizer = optim.Adam(model.parameters(), lr=0.001)\n",
        "\n",
        "# Train the neural network\n",
        "num_epochs = 10\n",
        "for epoch in range(num_epochs):\n",
        "    model.train()\n",
        "    running_loss = 0.0\n",
        "    for i, data in enumerate(train_loader, 0):\n",
        "        inputs, labels = data\n",
        "        optimizer.zero_grad()\n",
        "        outputs = model(inputs)\n",
        "        loss = loss_function(outputs, labels)\n",
        "        loss.backward()\n",
        "        optimizer.step()\n",
        "        running_loss += loss.item()\n",
        "        if i % 100 == 99:\n",
        "            print(f'Epoch {epoch + 1}, Batch {i + 1}, Loss: {running_loss / 100}')\n",
        "            running_loss = 0.0\n",
        "\n",
        "print('Training Finished')\n",
        "\n",
        "# Evaluate the model on the train set\n",
        "model.eval()\n",
        "correct = 0\n",
        "total = 0\n",
        "with torch.no_grad():\n",
        "    for data in train_loader:\n",
        "        images, labels = data\n",
        "        outputs = model(images)\n",
        "        _, predicted = torch.max(outputs.data, 1)\n",
        "        total += labels.size(0)\n",
        "        correct += (predicted == labels).sum().item()\n",
        "print(f'\\nAccuracy on the training set: {round(correct / total * 100, 3)}%')\n",
        "\n",
        "# Evaluate the model on the test set\n",
        "model.eval()\n",
        "correct = 0\n",
        "total = 0\n",
        "with torch.no_grad():\n",
        "    for data in test_loader:\n",
        "        images, labels = data\n",
        "        outputs = model(images)\n",
        "        _, predicted = torch.max(outputs.data, 1)\n",
        "        total += labels.size(0)\n",
        "        correct += (predicted == labels).sum().item()\n",
        "print(f'\\nAccuracy on the test set: {round(correct / total * 100, 3)}%')\n"
      ],
      "metadata": {
        "colab": {
          "base_uri": "https://localhost:8080/"
        },
        "id": "9fo7OPToxcOd",
        "outputId": "835df705-1634-4ed9-c344-13053c95d878"
      },
      "execution_count": 21,
      "outputs": [
        {
          "output_type": "stream",
          "name": "stdout",
          "text": [
            "Epoch 1, Batch 100, Loss: 0.8142573830485343\n",
            "Epoch 1, Batch 200, Loss: 0.38304812625050544\n",
            "Epoch 1, Batch 300, Loss: 0.3443899601697922\n",
            "Epoch 1, Batch 400, Loss: 0.27329949356615546\n",
            "Epoch 1, Batch 500, Loss: 0.26016170635819436\n",
            "Epoch 1, Batch 600, Loss: 0.21697482354938985\n",
            "Epoch 1, Batch 700, Loss: 0.20977485336363316\n",
            "Epoch 1, Batch 800, Loss: 0.21022147580981254\n",
            "Epoch 1, Batch 900, Loss: 0.1896942576393485\n",
            "Epoch 2, Batch 100, Loss: 0.15109093025326728\n",
            "Epoch 2, Batch 200, Loss: 0.15907142285257578\n",
            "Epoch 2, Batch 300, Loss: 0.13978375149890782\n",
            "Epoch 2, Batch 400, Loss: 0.15137547831982373\n",
            "Epoch 2, Batch 500, Loss: 0.13757030822336674\n",
            "Epoch 2, Batch 600, Loss: 0.14106159966439008\n",
            "Epoch 2, Batch 700, Loss: 0.13918499274179338\n",
            "Epoch 2, Batch 800, Loss: 0.13019672829657794\n",
            "Epoch 2, Batch 900, Loss: 0.12200108909979462\n",
            "Epoch 3, Batch 100, Loss: 0.10237119130790234\n",
            "Epoch 3, Batch 200, Loss: 0.11227866601198912\n",
            "Epoch 3, Batch 300, Loss: 0.10925579791888594\n",
            "Epoch 3, Batch 400, Loss: 0.09667676784098149\n",
            "Epoch 3, Batch 500, Loss: 0.10212984702549875\n",
            "Epoch 3, Batch 600, Loss: 0.10991025317460298\n",
            "Epoch 3, Batch 700, Loss: 0.11121401930227875\n",
            "Epoch 3, Batch 800, Loss: 0.11797471245750785\n",
            "Epoch 3, Batch 900, Loss: 0.09198379254899919\n",
            "Epoch 4, Batch 100, Loss: 0.08225686996709555\n",
            "Epoch 4, Batch 200, Loss: 0.09222195974551141\n",
            "Epoch 4, Batch 300, Loss: 0.08848475567996501\n",
            "Epoch 4, Batch 400, Loss: 0.08599573532119394\n",
            "Epoch 4, Batch 500, Loss: 0.0734212841046974\n",
            "Epoch 4, Batch 600, Loss: 0.08634680015966296\n",
            "Epoch 4, Batch 700, Loss: 0.08793188220821321\n",
            "Epoch 4, Batch 800, Loss: 0.09299522567540407\n",
            "Epoch 4, Batch 900, Loss: 0.10068688096478581\n",
            "Epoch 5, Batch 100, Loss: 0.07647372207604348\n",
            "Epoch 5, Batch 200, Loss: 0.07301896874792874\n",
            "Epoch 5, Batch 300, Loss: 0.07569638166110963\n",
            "Epoch 5, Batch 400, Loss: 0.07228987051174045\n",
            "Epoch 5, Batch 500, Loss: 0.06466157448943705\n",
            "Epoch 5, Batch 600, Loss: 0.06720190515508875\n",
            "Epoch 5, Batch 700, Loss: 0.08079553180374205\n",
            "Epoch 5, Batch 800, Loss: 0.06035058195702732\n",
            "Epoch 5, Batch 900, Loss: 0.07836474702693522\n",
            "Epoch 6, Batch 100, Loss: 0.05959795999340713\n",
            "Epoch 6, Batch 200, Loss: 0.05752571775112301\n",
            "Epoch 6, Batch 300, Loss: 0.07153208713978529\n",
            "Epoch 6, Batch 400, Loss: 0.059141043091658504\n",
            "Epoch 6, Batch 500, Loss: 0.05962044769898057\n",
            "Epoch 6, Batch 600, Loss: 0.060529931760393084\n",
            "Epoch 6, Batch 700, Loss: 0.06649810425587929\n",
            "Epoch 6, Batch 800, Loss: 0.06327125951997005\n",
            "Epoch 6, Batch 900, Loss: 0.06871008213609457\n",
            "Epoch 7, Batch 100, Loss: 0.04895371230319143\n",
            "Epoch 7, Batch 200, Loss: 0.05927808185340837\n",
            "Epoch 7, Batch 300, Loss: 0.05429481401341036\n",
            "Epoch 7, Batch 400, Loss: 0.05106771183258388\n",
            "Epoch 7, Batch 500, Loss: 0.05343605192610994\n",
            "Epoch 7, Batch 600, Loss: 0.052896055330056695\n",
            "Epoch 7, Batch 700, Loss: 0.05626044328324497\n",
            "Epoch 7, Batch 800, Loss: 0.0603294047084637\n",
            "Epoch 7, Batch 900, Loss: 0.056151573188835756\n",
            "Epoch 8, Batch 100, Loss: 0.044785957939457145\n",
            "Epoch 8, Batch 200, Loss: 0.0516213377378881\n",
            "Epoch 8, Batch 300, Loss: 0.044586499590659516\n",
            "Epoch 8, Batch 400, Loss: 0.045432280814275146\n",
            "Epoch 8, Batch 500, Loss: 0.0581386874045711\n",
            "Epoch 8, Batch 600, Loss: 0.049673206333536654\n",
            "Epoch 8, Batch 700, Loss: 0.05075380545167718\n",
            "Epoch 8, Batch 800, Loss: 0.051996318687452005\n",
            "Epoch 8, Batch 900, Loss: 0.05750461504794657\n",
            "Epoch 9, Batch 100, Loss: 0.04498691576649435\n",
            "Epoch 9, Batch 200, Loss: 0.037101359417429196\n",
            "Epoch 9, Batch 300, Loss: 0.05243086266680621\n",
            "Epoch 9, Batch 400, Loss: 0.059428661125712094\n",
            "Epoch 9, Batch 500, Loss: 0.040076943276217206\n",
            "Epoch 9, Batch 600, Loss: 0.04441811356577091\n",
            "Epoch 9, Batch 700, Loss: 0.05281642542802729\n",
            "Epoch 9, Batch 800, Loss: 0.05069810239016079\n",
            "Epoch 9, Batch 900, Loss: 0.04074784160242416\n",
            "Epoch 10, Batch 100, Loss: 0.030309304283000528\n",
            "Epoch 10, Batch 200, Loss: 0.04492642185883597\n",
            "Epoch 10, Batch 300, Loss: 0.03513501730456483\n",
            "Epoch 10, Batch 400, Loss: 0.0397045357467141\n",
            "Epoch 10, Batch 500, Loss: 0.03762550200190162\n",
            "Epoch 10, Batch 600, Loss: 0.03611382189788856\n",
            "Epoch 10, Batch 700, Loss: 0.04081393349188147\n",
            "Epoch 10, Batch 800, Loss: 0.0484578117961064\n",
            "Epoch 10, Batch 900, Loss: 0.05698930998274591\n",
            "Training Finished\n",
            "\n",
            "Accuracy on the training set: 98.925%\n",
            "\n",
            "Accuracy on the test set: 97.423%\n"
          ]
        }
      ]
    },
    {
      "cell_type": "markdown",
      "source": [
        "# Step 6\n",
        "**Report on the results of the modified model and if it matches your hypothesis:**\n",
        "- Accuracy on training set: 98.925%\n",
        "- Accuracy on test set: 97.423%\n",
        "\n",
        "The test accuracy demonstrates a slight improvement in this modified model, primarily attributed to the augmentation in the number of units within the hidden layers."
      ],
      "metadata": {
        "id": "ObUrzE2lzAon"
      }
    },
    {
      "cell_type": "markdown",
      "source": [
        "#Step 7\n",
        "\n",
        "I iteratively tested different optimizers, loss functions, dropout rates, and activation functions, monitoring their impact on performance. Each experiment informed subsequent adjustments to hyperparameters, allowing for a refined optimization process."
      ],
      "metadata": {
        "id": "JjA08qhHz__Q"
      }
    },
    {
      "cell_type": "markdown",
      "source": [
        "## Experiment 1\n",
        "- Using LeakyRELU as the activation function"
      ],
      "metadata": {
        "id": "8GsTuKgz0S4X"
      }
    },
    {
      "cell_type": "code",
      "source": [
        "# Define the neural network architecture\n",
        "class MLP3(nn.Module):\n",
        "    def __init__(self):\n",
        "        super(MLP3, self).__init__()\n",
        "        self.fc1 = nn.Linear(28 * 28, 256)\n",
        "        self.fc2 = nn.Linear(256, 256)\n",
        "        self.fc3 = nn.Linear(256, 10)\n",
        "\n",
        "    def forward(self, x):\n",
        "        x = x.view(-1, 28 * 28)\n",
        "        activation = nn.LeakyReLU(0.1)\n",
        "        x = activation(self.fc1(x))\n",
        "        x = activation(self.fc2(x))\n",
        "        x = self.fc3(x)\n",
        "        return x\n",
        "\n",
        "# Initialize the neural network model\n",
        "model = MLP3()\n",
        "\n",
        "# Define the loss function and optimizer\n",
        "loss_function = nn.CrossEntropyLoss()\n",
        "optimizer = optim.Adam(model.parameters(), lr=0.001)\n",
        "\n",
        "# Train the neural network\n",
        "num_epochs = 10\n",
        "for epoch in range(num_epochs):\n",
        "    model.train()\n",
        "    running_loss = 0.0\n",
        "    for i, data in enumerate(train_loader, 0):\n",
        "        inputs, labels = data\n",
        "        optimizer.zero_grad()\n",
        "        outputs = model(inputs)\n",
        "        loss = loss_function(outputs, labels)\n",
        "        loss.backward()\n",
        "        optimizer.step()\n",
        "        running_loss += loss.item()\n",
        "        if i % 100 == 99:\n",
        "            print(f'Epoch {epoch + 1}, Batch {i + 1}, Loss: {running_loss / 100}')\n",
        "            running_loss = 0.0\n",
        "\n",
        "print('Training Finished')\n",
        "\n",
        "# Evaluate the model on the train set\n",
        "model.eval()\n",
        "correct = 0\n",
        "total = 0\n",
        "with torch.no_grad():\n",
        "    for data in train_loader:\n",
        "        images, labels = data\n",
        "        outputs = model(images)\n",
        "        _, predicted = torch.max(outputs.data, 1)\n",
        "        total += labels.size(0)\n",
        "        correct += (predicted == labels).sum().item()\n",
        "print(f'\\nAccuracy on the training set: {round(correct / total * 100, 3)}%')\n",
        "\n",
        "# Evaluate the model on the test set\n",
        "model.eval()\n",
        "correct = 0\n",
        "total = 0\n",
        "with torch.no_grad():\n",
        "    for data in test_loader:\n",
        "        images, labels = data\n",
        "        outputs = model(images)\n",
        "        _, predicted = torch.max(outputs.data, 1)\n",
        "        total += labels.size(0)\n",
        "        correct += (predicted == labels).sum().item()\n",
        "print(f'\\nAccuracy on the test set: {round(correct / total * 100, 3)}%')\n"
      ],
      "metadata": {
        "colab": {
          "base_uri": "https://localhost:8080/"
        },
        "id": "rtUiqAOU0Alr",
        "outputId": "f2a0fc5b-e096-4ad4-f4e9-95abcd8a5412"
      },
      "execution_count": 23,
      "outputs": [
        {
          "output_type": "stream",
          "name": "stdout",
          "text": [
            "Epoch 1, Batch 100, Loss: 0.7687590178847313\n",
            "Epoch 1, Batch 200, Loss: 0.3944550859183073\n",
            "Epoch 1, Batch 300, Loss: 0.3148936751484871\n",
            "Epoch 1, Batch 400, Loss: 0.265697428137064\n",
            "Epoch 1, Batch 500, Loss: 0.25926123015582564\n",
            "Epoch 1, Batch 600, Loss: 0.22099491845816374\n",
            "Epoch 1, Batch 700, Loss: 0.21797717727720736\n",
            "Epoch 1, Batch 800, Loss: 0.19821106042712927\n",
            "Epoch 1, Batch 900, Loss: 0.17908367140218615\n",
            "Epoch 2, Batch 100, Loss: 0.1681343640573323\n",
            "Epoch 2, Batch 200, Loss: 0.14369015593081713\n",
            "Epoch 2, Batch 300, Loss: 0.15844985714182258\n",
            "Epoch 2, Batch 400, Loss: 0.1300379884429276\n",
            "Epoch 2, Batch 500, Loss: 0.13224038464948534\n",
            "Epoch 2, Batch 600, Loss: 0.12853086613118647\n",
            "Epoch 2, Batch 700, Loss: 0.146430259142071\n",
            "Epoch 2, Batch 800, Loss: 0.12741989800706505\n",
            "Epoch 2, Batch 900, Loss: 0.135161196552217\n",
            "Epoch 3, Batch 100, Loss: 0.10713835161179304\n",
            "Epoch 3, Batch 200, Loss: 0.10211492996662855\n",
            "Epoch 3, Batch 300, Loss: 0.11240353694185615\n",
            "Epoch 3, Batch 400, Loss: 0.11758188631385565\n",
            "Epoch 3, Batch 500, Loss: 0.11153966145589948\n",
            "Epoch 3, Batch 600, Loss: 0.11304116181563587\n",
            "Epoch 3, Batch 700, Loss: 0.09158994967117906\n",
            "Epoch 3, Batch 800, Loss: 0.10180806388612837\n",
            "Epoch 3, Batch 900, Loss: 0.09714347393717616\n",
            "Epoch 4, Batch 100, Loss: 0.07978244374506176\n",
            "Epoch 4, Batch 200, Loss: 0.09556486899964511\n",
            "Epoch 4, Batch 300, Loss: 0.09629445811267942\n",
            "Epoch 4, Batch 400, Loss: 0.08730638879584149\n",
            "Epoch 4, Batch 500, Loss: 0.0795390819851309\n",
            "Epoch 4, Batch 600, Loss: 0.1072175300307572\n",
            "Epoch 4, Batch 700, Loss: 0.09052348472643644\n",
            "Epoch 4, Batch 800, Loss: 0.07677007349207997\n",
            "Epoch 4, Batch 900, Loss: 0.0819985715020448\n",
            "Epoch 5, Batch 100, Loss: 0.0680313283763826\n",
            "Epoch 5, Batch 200, Loss: 0.07238104049582034\n",
            "Epoch 5, Batch 300, Loss: 0.06523713395465165\n",
            "Epoch 5, Batch 400, Loss: 0.07096524563385173\n",
            "Epoch 5, Batch 500, Loss: 0.07232770938891918\n",
            "Epoch 5, Batch 600, Loss: 0.081611972223036\n",
            "Epoch 5, Batch 700, Loss: 0.093030316978693\n",
            "Epoch 5, Batch 800, Loss: 0.07065065325703472\n",
            "Epoch 5, Batch 900, Loss: 0.07676253535784781\n",
            "Epoch 6, Batch 100, Loss: 0.07016132627613843\n",
            "Epoch 6, Batch 200, Loss: 0.05858771969913505\n",
            "Epoch 6, Batch 300, Loss: 0.06804810022935272\n",
            "Epoch 6, Batch 400, Loss: 0.06796600496629253\n",
            "Epoch 6, Batch 500, Loss: 0.06194068842101842\n",
            "Epoch 6, Batch 600, Loss: 0.0661197752179578\n",
            "Epoch 6, Batch 700, Loss: 0.06777696072356776\n",
            "Epoch 6, Batch 800, Loss: 0.05543642411474139\n",
            "Epoch 6, Batch 900, Loss: 0.07956014736089856\n",
            "Epoch 7, Batch 100, Loss: 0.04232935449806973\n",
            "Epoch 7, Batch 200, Loss: 0.04691467259952333\n",
            "Epoch 7, Batch 300, Loss: 0.04772185917943716\n",
            "Epoch 7, Batch 400, Loss: 0.04986985509283841\n",
            "Epoch 7, Batch 500, Loss: 0.05351552659180015\n",
            "Epoch 7, Batch 600, Loss: 0.05817376267979853\n",
            "Epoch 7, Batch 700, Loss: 0.058491197844268754\n",
            "Epoch 7, Batch 800, Loss: 0.07128965545678512\n",
            "Epoch 7, Batch 900, Loss: 0.06609207583125681\n",
            "Epoch 8, Batch 100, Loss: 0.047052837123628705\n",
            "Epoch 8, Batch 200, Loss: 0.05144148887542542\n",
            "Epoch 8, Batch 300, Loss: 0.049060303240548817\n",
            "Epoch 8, Batch 400, Loss: 0.05800523664103821\n",
            "Epoch 8, Batch 500, Loss: 0.06693458596710115\n",
            "Epoch 8, Batch 600, Loss: 0.0664177789236419\n",
            "Epoch 8, Batch 700, Loss: 0.04948218087316491\n",
            "Epoch 8, Batch 800, Loss: 0.05606278327060863\n",
            "Epoch 8, Batch 900, Loss: 0.060342320760246364\n",
            "Epoch 9, Batch 100, Loss: 0.05151887140003964\n",
            "Epoch 9, Batch 200, Loss: 0.039078376388642935\n",
            "Epoch 9, Batch 300, Loss: 0.05092742674751207\n",
            "Epoch 9, Batch 400, Loss: 0.046885417066514494\n",
            "Epoch 9, Batch 500, Loss: 0.0421507723571267\n",
            "Epoch 9, Batch 600, Loss: 0.04837138798786327\n",
            "Epoch 9, Batch 700, Loss: 0.0482383093086537\n",
            "Epoch 9, Batch 800, Loss: 0.05494569727685303\n",
            "Epoch 9, Batch 900, Loss: 0.05142374752642354\n",
            "Epoch 10, Batch 100, Loss: 0.037100590664194896\n",
            "Epoch 10, Batch 200, Loss: 0.044566729220096024\n",
            "Epoch 10, Batch 300, Loss: 0.04577286632673349\n",
            "Epoch 10, Batch 400, Loss: 0.05297352413879707\n",
            "Epoch 10, Batch 500, Loss: 0.04963712525641313\n",
            "Epoch 10, Batch 600, Loss: 0.039647619914612735\n",
            "Epoch 10, Batch 700, Loss: 0.05185690884711221\n",
            "Epoch 10, Batch 800, Loss: 0.03911426372360438\n",
            "Epoch 10, Batch 900, Loss: 0.05037942139315419\n",
            "Training Finished\n",
            "\n",
            "Accuracy on the training set: 98.278%\n",
            "\n",
            "Accuracy on the test set: 96.785%\n"
          ]
        }
      ]
    },
    {
      "cell_type": "markdown",
      "source": [
        "**Experiment 1, Observation: There is a minimal change in model performance.**"
      ],
      "metadata": {
        "id": "nkJTHHjC1k-S"
      }
    },
    {
      "cell_type": "markdown",
      "source": [
        "## Experiment 2\n",
        "- Adding dropout\n",
        "- Using RELU as activation function"
      ],
      "metadata": {
        "id": "cuZjgQUU1qyQ"
      }
    },
    {
      "cell_type": "code",
      "source": [
        "# Define the neural network architecture\n",
        "class MLP4(nn.Module):\n",
        "    def __init__(self):\n",
        "        super(MLP4, self).__init__()\n",
        "        self.fc1 = nn.Linear(28 * 28, 256)\n",
        "        self.dropout = nn.Dropout(0.4)\n",
        "        self.fc2 = nn.Linear(256, 256)\n",
        "        self.fc3 = nn.Linear(256, 10)\n",
        "\n",
        "    def forward(self, x):\n",
        "        x = x.view(-1, 28 * 28)\n",
        "        x = torch.relu(self.fc1(x))\n",
        "        x = self.dropout(x)\n",
        "        x = torch.relu(self.fc2(x))\n",
        "        x = self.dropout(x)\n",
        "        x = self.fc3(x)\n",
        "        return x\n",
        "\n",
        "# Initialize the neural network model\n",
        "model = MLP4()\n",
        "\n",
        "# Define the loss function and optimizer\n",
        "loss_function = nn.CrossEntropyLoss()\n",
        "optimizer = optim.Adam(model.parameters(), lr=0.001)\n",
        "\n",
        "# Train the neural network\n",
        "num_epochs = 10\n",
        "for epoch in range(num_epochs):\n",
        "    model.train()\n",
        "    running_loss = 0.0\n",
        "    for i, data in enumerate(train_loader, 0):\n",
        "        inputs, labels = data\n",
        "        optimizer.zero_grad()\n",
        "        outputs = model(inputs)\n",
        "        loss = loss_function(outputs, labels)\n",
        "        loss.backward()\n",
        "        optimizer.step()\n",
        "        running_loss += loss.item()\n",
        "        if i % 100 == 99:\n",
        "            print(f'Epoch {epoch + 1}, Batch {i + 1}, Loss: {running_loss / 100}')\n",
        "            running_loss = 0.0\n",
        "\n",
        "print('Training Finished')\n",
        "\n",
        "# Evaluate the model on the train set\n",
        "model.eval()\n",
        "correct = 0\n",
        "total = 0\n",
        "with torch.no_grad():\n",
        "    for data in train_loader:\n",
        "        images, labels = data\n",
        "        outputs = model(images)\n",
        "        _, predicted = torch.max(outputs.data, 1)\n",
        "        total += labels.size(0)\n",
        "        correct += (predicted == labels).sum().item()\n",
        "print(f'\\nAccuracy on the training set: {round(correct / total * 100, 3)}%')\n",
        "\n",
        "# Evaluate the model on the test set\n",
        "model.eval()\n",
        "correct = 0\n",
        "total = 0\n",
        "with torch.no_grad():\n",
        "    for data in test_loader:\n",
        "        images, labels = data\n",
        "        outputs = model(images)\n",
        "        _, predicted = torch.max(outputs.data, 1)\n",
        "        total += labels.size(0)\n",
        "        correct += (predicted == labels).sum().item()\n",
        "print(f'\\nAccuracy on the test set: {round(correct / total * 100, 3)}%')\n"
      ],
      "metadata": {
        "colab": {
          "base_uri": "https://localhost:8080/"
        },
        "id": "Ag2DbzQO1gyj",
        "outputId": "e995ebef-224f-4869-c73a-e89e710b8279"
      },
      "execution_count": 26,
      "outputs": [
        {
          "output_type": "stream",
          "name": "stdout",
          "text": [
            "Epoch 1, Batch 100, Loss: 1.094520983695984\n",
            "Epoch 1, Batch 200, Loss: 0.5558154931664467\n",
            "Epoch 1, Batch 300, Loss: 0.4753473436832428\n",
            "Epoch 1, Batch 400, Loss: 0.41381761148571966\n",
            "Epoch 1, Batch 500, Loss: 0.40914664216339586\n",
            "Epoch 1, Batch 600, Loss: 0.3486849971115589\n",
            "Epoch 1, Batch 700, Loss: 0.356544294282794\n",
            "Epoch 1, Batch 800, Loss: 0.325548752695322\n",
            "Epoch 1, Batch 900, Loss: 0.3339158549904823\n",
            "Epoch 2, Batch 100, Loss: 0.29641877360641955\n",
            "Epoch 2, Batch 200, Loss: 0.29483731277287006\n",
            "Epoch 2, Batch 300, Loss: 0.2881804385781288\n",
            "Epoch 2, Batch 400, Loss: 0.27488680273294447\n",
            "Epoch 2, Batch 500, Loss: 0.29092188000679015\n",
            "Epoch 2, Batch 600, Loss: 0.28439061254262926\n",
            "Epoch 2, Batch 700, Loss: 0.2682033259794116\n",
            "Epoch 2, Batch 800, Loss: 0.24329226296395062\n",
            "Epoch 2, Batch 900, Loss: 0.2577632188051939\n",
            "Epoch 3, Batch 100, Loss: 0.23342990174889564\n",
            "Epoch 3, Batch 200, Loss: 0.24786084610968828\n",
            "Epoch 3, Batch 300, Loss: 0.2475956492498517\n",
            "Epoch 3, Batch 400, Loss: 0.21764727402478456\n",
            "Epoch 3, Batch 500, Loss: 0.23501949571073055\n",
            "Epoch 3, Batch 600, Loss: 0.23003680974245072\n",
            "Epoch 3, Batch 700, Loss: 0.22711771849542856\n",
            "Epoch 3, Batch 800, Loss: 0.23374510917812585\n",
            "Epoch 3, Batch 900, Loss: 0.22396442472934722\n",
            "Epoch 4, Batch 100, Loss: 0.2144810903817415\n",
            "Epoch 4, Batch 200, Loss: 0.2287484272569418\n",
            "Epoch 4, Batch 300, Loss: 0.2239955769479275\n",
            "Epoch 4, Batch 400, Loss: 0.20855777740478515\n",
            "Epoch 4, Batch 500, Loss: 0.21170863036066292\n",
            "Epoch 4, Batch 600, Loss: 0.2061453391239047\n",
            "Epoch 4, Batch 700, Loss: 0.228402864895761\n",
            "Epoch 4, Batch 800, Loss: 0.1962829713523388\n",
            "Epoch 4, Batch 900, Loss: 0.20891151160001756\n",
            "Epoch 5, Batch 100, Loss: 0.19257459450513126\n",
            "Epoch 5, Batch 200, Loss: 0.18381334913894534\n",
            "Epoch 5, Batch 300, Loss: 0.218684121966362\n",
            "Epoch 5, Batch 400, Loss: 0.19886336658149958\n",
            "Epoch 5, Batch 500, Loss: 0.20385508593171836\n",
            "Epoch 5, Batch 600, Loss: 0.22972458928823472\n",
            "Epoch 5, Batch 700, Loss: 0.19028867926448584\n",
            "Epoch 5, Batch 800, Loss: 0.19008670423179866\n",
            "Epoch 5, Batch 900, Loss: 0.20116691172122955\n",
            "Epoch 6, Batch 100, Loss: 0.1793871002085507\n",
            "Epoch 6, Batch 200, Loss: 0.19125508593395352\n",
            "Epoch 6, Batch 300, Loss: 0.2013792535290122\n",
            "Epoch 6, Batch 400, Loss: 0.18768381752073765\n",
            "Epoch 6, Batch 500, Loss: 0.18262941516935827\n",
            "Epoch 6, Batch 600, Loss: 0.19671812266111374\n",
            "Epoch 6, Batch 700, Loss: 0.17165752846747637\n",
            "Epoch 6, Batch 800, Loss: 0.19167618811130524\n",
            "Epoch 6, Batch 900, Loss: 0.19422236505895854\n",
            "Epoch 7, Batch 100, Loss: 0.17656498197466136\n",
            "Epoch 7, Batch 200, Loss: 0.16734739519655706\n",
            "Epoch 7, Batch 300, Loss: 0.16935692008584738\n",
            "Epoch 7, Batch 400, Loss: 0.17970525100827217\n",
            "Epoch 7, Batch 500, Loss: 0.18839425750076771\n",
            "Epoch 7, Batch 600, Loss: 0.17307263117283583\n",
            "Epoch 7, Batch 700, Loss: 0.1859919286891818\n",
            "Epoch 7, Batch 800, Loss: 0.17379757205024363\n",
            "Epoch 7, Batch 900, Loss: 0.18117455542087554\n",
            "Epoch 8, Batch 100, Loss: 0.18353854244574905\n",
            "Epoch 8, Batch 200, Loss: 0.18589268386363983\n",
            "Epoch 8, Batch 300, Loss: 0.1730741671845317\n",
            "Epoch 8, Batch 400, Loss: 0.17022119097411634\n",
            "Epoch 8, Batch 500, Loss: 0.1621578834205866\n",
            "Epoch 8, Batch 600, Loss: 0.18082822617143393\n",
            "Epoch 8, Batch 700, Loss: 0.16541538892313837\n",
            "Epoch 8, Batch 800, Loss: 0.150151525195688\n",
            "Epoch 8, Batch 900, Loss: 0.1789686055481434\n",
            "Epoch 9, Batch 100, Loss: 0.1582954303920269\n",
            "Epoch 9, Batch 200, Loss: 0.1675289038196206\n",
            "Epoch 9, Batch 300, Loss: 0.15539607707411052\n",
            "Epoch 9, Batch 400, Loss: 0.15260371565818787\n",
            "Epoch 9, Batch 500, Loss: 0.1835455136746168\n",
            "Epoch 9, Batch 600, Loss: 0.17058990428224205\n",
            "Epoch 9, Batch 700, Loss: 0.15702032729983328\n",
            "Epoch 9, Batch 800, Loss: 0.18524577766656875\n",
            "Epoch 9, Batch 900, Loss: 0.1583538679033518\n",
            "Epoch 10, Batch 100, Loss: 0.1532193635031581\n",
            "Epoch 10, Batch 200, Loss: 0.16207882326096296\n",
            "Epoch 10, Batch 300, Loss: 0.1642709319293499\n",
            "Epoch 10, Batch 400, Loss: 0.1727889825962484\n",
            "Epoch 10, Batch 500, Loss: 0.17612583020702005\n",
            "Epoch 10, Batch 600, Loss: 0.16720949618145822\n",
            "Epoch 10, Batch 700, Loss: 0.14677226839587093\n",
            "Epoch 10, Batch 800, Loss: 0.1490537429228425\n",
            "Epoch 10, Batch 900, Loss: 0.16729108519852162\n",
            "Training Finished\n",
            "\n",
            "Accuracy on the training set: 97.738%\n",
            "\n",
            "Accuracy on the test set: 96.852%\n"
          ]
        }
      ]
    },
    {
      "cell_type": "markdown",
      "source": [
        "\n",
        "Experiment 2, Observation: The alteration in model performance remains minimal, mirroring the outcomes observed in experiment 1."
      ],
      "metadata": {
        "id": "7h4rnDX45owu"
      }
    },
    {
      "cell_type": "markdown",
      "source": [
        "## Experiment 2\n",
        "- Optimizer : SGD with Momentum\n",
        "- Remove Dropout\n",
        "- Keep Loss Function as it is. (CrossEntropyLoss is a good loss function for image classification tasks)\n",
        "- Change epochs to 10"
      ],
      "metadata": {
        "id": "BZ5utU5F5tzd"
      }
    },
    {
      "cell_type": "code",
      "source": [
        "# Define the neural network architecture\n",
        "class MLP5(nn.Module):\n",
        "    def __init__(self):\n",
        "        super(MLP5, self).__init__()\n",
        "        self.fc1 = nn.Linear(28 * 28, 256)\n",
        "        self.fc2 = nn.Linear(256, 256)\n",
        "        self.fc3 = nn.Linear(256, 10)\n",
        "\n",
        "    def forward(self, x):\n",
        "        x = x.view(-1, 28 * 28)\n",
        "        x = torch.relu(self.fc1(x))\n",
        "        x = torch.relu(self.fc2(x))\n",
        "        x = self.fc3(x)\n",
        "        return x\n",
        "\n",
        "# Initialize the neural network model\n",
        "model = MLP5()\n",
        "\n",
        "# Define the loss function and optimizer\n",
        "loss_function = nn.CrossEntropyLoss()\n",
        "optimizer = optim.SGD(model.parameters(), lr=0.001, momentum=0.9)\n",
        "\n",
        "# Train the neural network\n",
        "num_epochs = 10\n",
        "for epoch in range(num_epochs):\n",
        "    model.train()\n",
        "    running_loss = 0.0\n",
        "    for i, data in enumerate(train_loader, 0):\n",
        "        inputs, labels = data\n",
        "        optimizer.zero_grad()\n",
        "        outputs = model(inputs)\n",
        "        loss = loss_function(outputs, labels)\n",
        "        loss.backward()\n",
        "        optimizer.step()\n",
        "        running_loss += loss.item()\n",
        "        if i % 100 == 99:\n",
        "            print(f'Epoch {epoch + 1}, Batch {i + 1}, Loss: {running_loss / 100}')\n",
        "            running_loss = 0.0\n",
        "\n",
        "print('Training Finished')\n",
        "\n",
        "# Evaluate the model on the train set\n",
        "model.eval()\n",
        "correct = 0\n",
        "total = 0\n",
        "with torch.no_grad():\n",
        "    for data in train_loader:\n",
        "        images, labels = data\n",
        "        outputs = model(images)\n",
        "        _, predicted = torch.max(outputs.data, 1)\n",
        "        total += labels.size(0)\n",
        "        correct += (predicted == labels).sum().item()\n",
        "print(f'\\nAccuracy on the training set: {round(correct / total * 100, 3)}%')\n",
        "\n",
        "# Evaluate the model on the test set\n",
        "model.eval()\n",
        "correct = 0\n",
        "total = 0\n",
        "with torch.no_grad():\n",
        "    for data in test_loader:\n",
        "        images, labels = data\n",
        "        outputs = model(images)\n",
        "        _, predicted = torch.max(outputs.data, 1)\n",
        "        total += labels.size(0)\n",
        "        correct += (predicted == labels).sum().item()\n",
        "print(f'\\nAccuracy on the test set: {round(correct / total * 100, 3)}%')\n"
      ],
      "metadata": {
        "colab": {
          "base_uri": "https://localhost:8080/"
        },
        "id": "BMvOKjwh5r7W",
        "outputId": "ecc528fa-d5be-4254-a519-0f42e15e79bd"
      },
      "execution_count": 28,
      "outputs": [
        {
          "output_type": "stream",
          "name": "stdout",
          "text": [
            "Epoch 1, Batch 100, Loss: 2.2344424057006838\n",
            "Epoch 1, Batch 200, Loss: 1.96050039768219\n",
            "Epoch 1, Batch 300, Loss: 1.4477262008190155\n",
            "Epoch 1, Batch 400, Loss: 0.9816925448179245\n",
            "Epoch 1, Batch 500, Loss: 0.7374842995405197\n",
            "Epoch 1, Batch 600, Loss: 0.6112575918436051\n",
            "Epoch 1, Batch 700, Loss: 0.533815955221653\n",
            "Epoch 1, Batch 800, Loss: 0.49921472132205963\n",
            "Epoch 1, Batch 900, Loss: 0.4432837899029255\n",
            "Epoch 2, Batch 100, Loss: 0.41800090461969375\n",
            "Epoch 2, Batch 200, Loss: 0.41832919970154764\n",
            "Epoch 2, Batch 300, Loss: 0.39498530834913254\n",
            "Epoch 2, Batch 400, Loss: 0.3740631528198719\n",
            "Epoch 2, Batch 500, Loss: 0.35637629121541975\n",
            "Epoch 2, Batch 600, Loss: 0.35862250469624996\n",
            "Epoch 2, Batch 700, Loss: 0.34630589321255684\n",
            "Epoch 2, Batch 800, Loss: 0.3434796267747879\n",
            "Epoch 2, Batch 900, Loss: 0.3426695528626442\n",
            "Epoch 3, Batch 100, Loss: 0.3273366059362888\n",
            "Epoch 3, Batch 200, Loss: 0.322786949723959\n",
            "Epoch 3, Batch 300, Loss: 0.32061602890491486\n",
            "Epoch 3, Batch 400, Loss: 0.3287878656387329\n",
            "Epoch 3, Batch 500, Loss: 0.3300999970734119\n",
            "Epoch 3, Batch 600, Loss: 0.3226958164572716\n",
            "Epoch 3, Batch 700, Loss: 0.29894636660814283\n",
            "Epoch 3, Batch 800, Loss: 0.30427762180566786\n",
            "Epoch 3, Batch 900, Loss: 0.2903685460984707\n",
            "Epoch 4, Batch 100, Loss: 0.2755767890065908\n",
            "Epoch 4, Batch 200, Loss: 0.3089458145201206\n",
            "Epoch 4, Batch 300, Loss: 0.28831457734107974\n",
            "Epoch 4, Batch 400, Loss: 0.29582385808229444\n",
            "Epoch 4, Batch 500, Loss: 0.27750451646745206\n",
            "Epoch 4, Batch 600, Loss: 0.29562299117445945\n",
            "Epoch 4, Batch 700, Loss: 0.27011153638362884\n",
            "Epoch 4, Batch 800, Loss: 0.2650825396180153\n",
            "Epoch 4, Batch 900, Loss: 0.27028387002646925\n",
            "Epoch 5, Batch 100, Loss: 0.2752138938754797\n",
            "Epoch 5, Batch 200, Loss: 0.25051131516695024\n",
            "Epoch 5, Batch 300, Loss: 0.2604912390559912\n",
            "Epoch 5, Batch 400, Loss: 0.25393418692052366\n",
            "Epoch 5, Batch 500, Loss: 0.252280318364501\n",
            "Epoch 5, Batch 600, Loss: 0.2561108445376158\n",
            "Epoch 5, Batch 700, Loss: 0.25581894524395465\n",
            "Epoch 5, Batch 800, Loss: 0.242730867639184\n",
            "Epoch 5, Batch 900, Loss: 0.26473023124039174\n",
            "Epoch 6, Batch 100, Loss: 0.2449720489233732\n",
            "Epoch 6, Batch 200, Loss: 0.2627021573483944\n",
            "Epoch 6, Batch 300, Loss: 0.23065594598650932\n",
            "Epoch 6, Batch 400, Loss: 0.2375595396012068\n",
            "Epoch 6, Batch 500, Loss: 0.24756639391183854\n",
            "Epoch 6, Batch 600, Loss: 0.2395830062031746\n",
            "Epoch 6, Batch 700, Loss: 0.2185135693848133\n",
            "Epoch 6, Batch 800, Loss: 0.21869189165532588\n",
            "Epoch 6, Batch 900, Loss: 0.23095509842038153\n",
            "Epoch 7, Batch 100, Loss: 0.23237042114138604\n",
            "Epoch 7, Batch 200, Loss: 0.22471516005694867\n",
            "Epoch 7, Batch 300, Loss: 0.21435790210962297\n",
            "Epoch 7, Batch 400, Loss: 0.22143795363605023\n",
            "Epoch 7, Batch 500, Loss: 0.20399113722145557\n",
            "Epoch 7, Batch 600, Loss: 0.21128349971026184\n",
            "Epoch 7, Batch 700, Loss: 0.20160237204283477\n",
            "Epoch 7, Batch 800, Loss: 0.2132657142728567\n",
            "Epoch 7, Batch 900, Loss: 0.2112111333757639\n",
            "Epoch 8, Batch 100, Loss: 0.2053899169713259\n",
            "Epoch 8, Batch 200, Loss: 0.20591515220701695\n",
            "Epoch 8, Batch 300, Loss: 0.2099714234471321\n",
            "Epoch 8, Batch 400, Loss: 0.20120681546628474\n",
            "Epoch 8, Batch 500, Loss: 0.20386412169784307\n",
            "Epoch 8, Batch 600, Loss: 0.18692365918308496\n",
            "Epoch 8, Batch 700, Loss: 0.18386406444013118\n",
            "Epoch 8, Batch 800, Loss: 0.19099049609154461\n",
            "Epoch 8, Batch 900, Loss: 0.18319751903414727\n",
            "Epoch 9, Batch 100, Loss: 0.19993172690272332\n",
            "Epoch 9, Batch 200, Loss: 0.18676659621298314\n",
            "Epoch 9, Batch 300, Loss: 0.18635077625513077\n",
            "Epoch 9, Batch 400, Loss: 0.16642768651247025\n",
            "Epoch 9, Batch 500, Loss: 0.1773762971162796\n",
            "Epoch 9, Batch 600, Loss: 0.18141214191913604\n",
            "Epoch 9, Batch 700, Loss: 0.17901360217481851\n",
            "Epoch 9, Batch 800, Loss: 0.1856166670843959\n",
            "Epoch 9, Batch 900, Loss: 0.1661375240236521\n",
            "Epoch 10, Batch 100, Loss: 0.17203173581510783\n",
            "Epoch 10, Batch 200, Loss: 0.17433190025389195\n",
            "Epoch 10, Batch 300, Loss: 0.16838707614690065\n",
            "Epoch 10, Batch 400, Loss: 0.16367582228034736\n",
            "Epoch 10, Batch 500, Loss: 0.16874424319714307\n",
            "Epoch 10, Batch 600, Loss: 0.15705282744020224\n",
            "Epoch 10, Batch 700, Loss: 0.16430350590497256\n",
            "Epoch 10, Batch 800, Loss: 0.17255918752402066\n",
            "Epoch 10, Batch 900, Loss: 0.16946511913090945\n",
            "Training Finished\n",
            "\n",
            "Accuracy on the training set: 95.452%\n",
            "\n",
            "Accuracy on the test set: 94.795%\n"
          ]
        }
      ]
    },
    {
      "cell_type": "markdown",
      "source": [
        "\n",
        "Experiment 3, Observation: The observed model performance is inferior, as indicated above, underscoring the superiority of Adam over SGD with momentum in terms of efficacy."
      ],
      "metadata": {
        "id": "K2JtzTc06-ci"
      }
    },
    {
      "cell_type": "code",
      "source": [],
      "metadata": {
        "id": "SQyxyCFa57Pg"
      },
      "execution_count": null,
      "outputs": []
    }
  ]
}